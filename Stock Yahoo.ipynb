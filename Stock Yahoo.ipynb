{
  "nbformat": 4,
  "nbformat_minor": 0,
  "metadata": {
    "colab": {
      "name": "Live 6Sigma",
      "provenance": [],
      "collapsed_sections": []
    },
    "kernelspec": {
      "name": "python3",
      "display_name": "Python 3"
    }
  },
  "cells": [
    {
      "cell_type": "code",
      "metadata": {
        "id": "1-7lr53SJs5X"
      },
      "source": [
        "import pandas_datareader as web"
      ],
      "execution_count": 1,
      "outputs": []
    },
    {
      "cell_type": "code",
      "metadata": {
        "id": "5SpBEyudKJ-H"
      },
      "source": [
        "import datetime"
      ],
      "execution_count": 2,
      "outputs": []
    },
    {
      "cell_type": "code",
      "metadata": {
        "id": "jbCDWLIjKSLf"
      },
      "source": [
        "import matplotlib.pyplot as plt\n",
        "\n"
      ],
      "execution_count": 3,
      "outputs": []
    },
    {
      "cell_type": "code",
      "metadata": {
        "id": "S1Cho4ARKXFb"
      },
      "source": [
        "start = datetime.datetime(2000, 1, 1)"
      ],
      "execution_count": 4,
      "outputs": []
    },
    {
      "cell_type": "code",
      "metadata": {
        "id": "vZfHxaVQKbp6"
      },
      "source": [
        "end = datetime.datetime(2021 , 3, 12)"
      ],
      "execution_count": 5,
      "outputs": []
    },
    {
      "cell_type": "code",
      "metadata": {
        "id": "Zuk0jNNw3kFp",
        "colab": {
          "base_uri": "https://localhost:8080/"
        },
        "outputId": "998794e1-3ac1-4803-ed44-2e4dfe45d0d6"
      },
      "source": [
        "start, end"
      ],
      "execution_count": 6,
      "outputs": [
        {
          "output_type": "execute_result",
          "data": {
            "text/plain": [
              "(datetime.datetime(2000, 1, 1, 0, 0), datetime.datetime(2021, 3, 12, 0, 0))"
            ]
          },
          "metadata": {
            "tags": []
          },
          "execution_count": 6
        }
      ]
    },
    {
      "cell_type": "code",
      "metadata": {
        "id": "5Ztu036mKecT"
      },
      "source": [
        "f = web.DataReader ('PBR', 'yahoo' , start, end)"
      ],
      "execution_count": 7,
      "outputs": []
    },
    {
      "cell_type": "code",
      "metadata": {
        "id": "jnpnfIxOmGkY",
        "colab": {
          "base_uri": "https://localhost:8080/",
          "height": 450
        },
        "outputId": "66f4c5e4-68f9-46b8-cf81-221367bf29f8"
      },
      "source": [
        "f"
      ],
      "execution_count": 8,
      "outputs": [
        {
          "output_type": "execute_result",
          "data": {
            "text/html": [
              "<div>\n",
              "<style scoped>\n",
              "    .dataframe tbody tr th:only-of-type {\n",
              "        vertical-align: middle;\n",
              "    }\n",
              "\n",
              "    .dataframe tbody tr th {\n",
              "        vertical-align: top;\n",
              "    }\n",
              "\n",
              "    .dataframe thead th {\n",
              "        text-align: right;\n",
              "    }\n",
              "</style>\n",
              "<table border=\"1\" class=\"dataframe\">\n",
              "  <thead>\n",
              "    <tr style=\"text-align: right;\">\n",
              "      <th></th>\n",
              "      <th>High</th>\n",
              "      <th>Low</th>\n",
              "      <th>Open</th>\n",
              "      <th>Close</th>\n",
              "      <th>Volume</th>\n",
              "      <th>Adj Close</th>\n",
              "    </tr>\n",
              "    <tr>\n",
              "      <th>Date</th>\n",
              "      <th></th>\n",
              "      <th></th>\n",
              "      <th></th>\n",
              "      <th></th>\n",
              "      <th></th>\n",
              "      <th></th>\n",
              "    </tr>\n",
              "  </thead>\n",
              "  <tbody>\n",
              "    <tr>\n",
              "      <th>2000-08-10</th>\n",
              "      <td>7.156250</td>\n",
              "      <td>6.125000</td>\n",
              "      <td>6.312500</td>\n",
              "      <td>7.156250</td>\n",
              "      <td>143929200.0</td>\n",
              "      <td>4.117224</td>\n",
              "    </tr>\n",
              "    <tr>\n",
              "      <th>2000-08-11</th>\n",
              "      <td>7.281250</td>\n",
              "      <td>6.750000</td>\n",
              "      <td>6.843750</td>\n",
              "      <td>7.140625</td>\n",
              "      <td>25139200.0</td>\n",
              "      <td>4.108234</td>\n",
              "    </tr>\n",
              "    <tr>\n",
              "      <th>2000-08-14</th>\n",
              "      <td>7.218750</td>\n",
              "      <td>7.000000</td>\n",
              "      <td>7.031250</td>\n",
              "      <td>7.109375</td>\n",
              "      <td>6935200.0</td>\n",
              "      <td>4.090255</td>\n",
              "    </tr>\n",
              "    <tr>\n",
              "      <th>2000-08-15</th>\n",
              "      <td>7.359375</td>\n",
              "      <td>7.015625</td>\n",
              "      <td>7.109375</td>\n",
              "      <td>7.140625</td>\n",
              "      <td>9078800.0</td>\n",
              "      <td>4.108234</td>\n",
              "    </tr>\n",
              "    <tr>\n",
              "      <th>2000-08-16</th>\n",
              "      <td>7.500000</td>\n",
              "      <td>7.125000</td>\n",
              "      <td>7.203125</td>\n",
              "      <td>7.328125</td>\n",
              "      <td>11728000.0</td>\n",
              "      <td>4.216110</td>\n",
              "    </tr>\n",
              "    <tr>\n",
              "      <th>...</th>\n",
              "      <td>...</td>\n",
              "      <td>...</td>\n",
              "      <td>...</td>\n",
              "      <td>...</td>\n",
              "      <td>...</td>\n",
              "      <td>...</td>\n",
              "    </tr>\n",
              "    <tr>\n",
              "      <th>2021-03-08</th>\n",
              "      <td>7.680000</td>\n",
              "      <td>7.160000</td>\n",
              "      <td>7.610000</td>\n",
              "      <td>7.210000</td>\n",
              "      <td>60940400.0</td>\n",
              "      <td>7.210000</td>\n",
              "    </tr>\n",
              "    <tr>\n",
              "      <th>2021-03-09</th>\n",
              "      <td>7.530000</td>\n",
              "      <td>7.060000</td>\n",
              "      <td>7.240000</td>\n",
              "      <td>7.270000</td>\n",
              "      <td>57835200.0</td>\n",
              "      <td>7.270000</td>\n",
              "    </tr>\n",
              "    <tr>\n",
              "      <th>2021-03-10</th>\n",
              "      <td>7.860000</td>\n",
              "      <td>7.490000</td>\n",
              "      <td>7.610000</td>\n",
              "      <td>7.840000</td>\n",
              "      <td>52428300.0</td>\n",
              "      <td>7.840000</td>\n",
              "    </tr>\n",
              "    <tr>\n",
              "      <th>2021-03-11</th>\n",
              "      <td>8.340000</td>\n",
              "      <td>7.970000</td>\n",
              "      <td>8.100000</td>\n",
              "      <td>8.250000</td>\n",
              "      <td>51687700.0</td>\n",
              "      <td>8.250000</td>\n",
              "    </tr>\n",
              "    <tr>\n",
              "      <th>2021-03-12</th>\n",
              "      <td>8.200000</td>\n",
              "      <td>8.030000</td>\n",
              "      <td>8.170000</td>\n",
              "      <td>8.120000</td>\n",
              "      <td>25987500.0</td>\n",
              "      <td>8.120000</td>\n",
              "    </tr>\n",
              "  </tbody>\n",
              "</table>\n",
              "<p>5179 rows × 6 columns</p>\n",
              "</div>"
            ],
            "text/plain": [
              "                High       Low      Open     Close       Volume  Adj Close\n",
              "Date                                                                      \n",
              "2000-08-10  7.156250  6.125000  6.312500  7.156250  143929200.0   4.117224\n",
              "2000-08-11  7.281250  6.750000  6.843750  7.140625   25139200.0   4.108234\n",
              "2000-08-14  7.218750  7.000000  7.031250  7.109375    6935200.0   4.090255\n",
              "2000-08-15  7.359375  7.015625  7.109375  7.140625    9078800.0   4.108234\n",
              "2000-08-16  7.500000  7.125000  7.203125  7.328125   11728000.0   4.216110\n",
              "...              ...       ...       ...       ...          ...        ...\n",
              "2021-03-08  7.680000  7.160000  7.610000  7.210000   60940400.0   7.210000\n",
              "2021-03-09  7.530000  7.060000  7.240000  7.270000   57835200.0   7.270000\n",
              "2021-03-10  7.860000  7.490000  7.610000  7.840000   52428300.0   7.840000\n",
              "2021-03-11  8.340000  7.970000  8.100000  8.250000   51687700.0   8.250000\n",
              "2021-03-12  8.200000  8.030000  8.170000  8.120000   25987500.0   8.120000\n",
              "\n",
              "[5179 rows x 6 columns]"
            ]
          },
          "metadata": {
            "tags": []
          },
          "execution_count": 8
        }
      ]
    },
    {
      "cell_type": "code",
      "metadata": {
        "id": "-gV7EOd7Km71",
        "colab": {
          "base_uri": "https://localhost:8080/",
          "height": 295
        },
        "outputId": "5f751872-cfa7-482f-cb48-bfbb46745d14"
      },
      "source": [
        "%matplotlib inline\n",
        "plt.plot(f.High)\n",
        "plt.plot(f['Adj Close'])\n",
        "plt.title('Ações Petrobras 2010-2020')\n",
        "plt.xlabel(\"Data\")\n",
        "plt.ylabel('R$')\n",
        "plt.show()"
      ],
      "execution_count": 12,
      "outputs": [
        {
          "output_type": "display_data",
          "data": {
            "image/png": "[encoded data removed]",
            "text/plain": [
              "<Figure size 432x288 with 1 Axes>"
            ]
          },
          "metadata": {
            "tags": [],
            "needs_background": "light"
          }
        }
      ]
    },
    {
      "cell_type": "code",
      "metadata": {
        "id": "doiMED0kT7Wz"
      },
      "source": [
        ""
      ],
      "execution_count": null,
      "outputs": []
    }
  ]
}