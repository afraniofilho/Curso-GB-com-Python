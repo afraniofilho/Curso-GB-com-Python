{
  "nbformat": 4,
  "nbformat_minor": 0,
  "metadata": {
    "colab": {
      "name": "camera leg.ipynb",
      "provenance": [],
      "authorship_tag": "ABX9TyPhaaJt6lQgdcp4YshwYyCa",
      "include_colab_link": true
    },
    "kernelspec": {
      "name": "python3",
      "display_name": "Python 3"
    },
    "language_info": {
      "name": "python"
    }
  },
  "cells": [
    {
      "cell_type": "markdown",
      "metadata": {
        "id": "view-in-github",
        "colab_type": "text"
      },
      "source": [
        "<a href=\"https://colab.research.google.com/github/afraniofilho/Curso-GB-com-Python/blob/main/camera_leg.ipynb\" target=\"_parent\"><img src=\"https://colab.research.google.com/assets/colab-badge.svg\" alt=\"Open In Colab\"/></a>"
      ]
    },
    {
      "cell_type": "code",
      "execution_count": 1,
      "metadata": {
        "id": "fe1PnlzrqPCj"
      },
      "outputs": [],
      "source": [
        "import pandas as pd\n",
        "import requests"
      ]
    },
    {
      "cell_type": "code",
      "source": [
        "url = 'https://dadosabertos.camara.leg.br/api/v2/partidos?itens=100&ordem=ASC&ordenarPor=sigla'"
      ],
      "metadata": {
        "id": "fZCJoJvWqTVm"
      },
      "execution_count": 13,
      "outputs": []
    },
    {
      "cell_type": "code",
      "source": [
        "url"
      ],
      "metadata": {
        "colab": {
          "base_uri": "https://localhost:8080/",
          "height": 35
        },
        "id": "GsoR2bryqhWc",
        "outputId": "5f071a53-e39e-41de-ba67-34c824c867ab"
      },
      "execution_count": 14,
      "outputs": [
        {
          "output_type": "execute_result",
          "data": {
            "text/plain": [
              "'https://dadosabertos.camara.leg.br/api/v2/partidos?itens=100&ordem=ASC&ordenarPor=sigla'"
            ],
            "application/vnd.google.colaboratory.intrinsic+json": {
              "type": "string"
            }
          },
          "metadata": {},
          "execution_count": 14
        }
      ]
    },
    {
      "cell_type": "code",
      "source": [
        "resposta = requests.get(url)"
      ],
      "metadata": {
        "id": "bCdlr3wQqiUF"
      },
      "execution_count": 15,
      "outputs": []
    },
    {
      "cell_type": "code",
      "source": [
        "resposta.text"
      ],
      "metadata": {
        "colab": {
          "base_uri": "https://localhost:8080/",
          "height": 157
        },
        "id": "_A_2FcoCqz7T",
        "outputId": "646ba103-151b-4395-e104-0c629a8d574c"
      },
      "execution_count": 16,
      "outputs": [
        {
          "output_type": "execute_result",
          "data": {
            "text/plain": [
              "'{\"dados\":[{\"id\":36898,\"sigla\":\"AVANTE\",\"nome\":\"Avante\",\"uri\":\"https://dadosabertos.camara.leg.br/api/v2/partidos/36898\"},{\"id\":37905,\"sigla\":\"CIDADANIA\",\"nome\":\"Cidadania\",\"uri\":\"https://dadosabertos.camara.leg.br/api/v2/partidos/37905\"},{\"id\":37902,\"sigla\":\"DC\",\"nome\":\"Democracia Cristã\",\"uri\":\"https://dadosabertos.camara.leg.br/api/v2/partidos/37902\"},{\"id\":36769,\"sigla\":\"DEM\",\"nome\":\"Democratas\",\"uri\":\"https://dadosabertos.camara.leg.br/api/v2/partidos/36769\"},{\"id\":36899,\"sigla\":\"MDB\",\"nome\":\"Movimento Democrático Brasileiro\",\"uri\":\"https://dadosabertos.camara.leg.br/api/v2/partidos/36899\"},{\"id\":37901,\"sigla\":\"NOVO\",\"nome\":\"Partido Novo\",\"uri\":\"https://dadosabertos.camara.leg.br/api/v2/partidos/37901\"},{\"id\":37900,\"sigla\":\"PATRI\",\"nome\":\"Patriota\",\"uri\":\"https://dadosabertos.camara.leg.br/api/v2/partidos/37900\"},{\"id\":37907,\"sigla\":\"PATRIOTA\",\"nome\":\"Patriota\",\"uri\":\"https://dadosabertos.camara.leg.br/api/v2/partidos/37907\"},{\"id\":36863,\"sigla\":\"PCB\",\"nome\":\"Partido Constitucionalista Brasileiro\",\"uri\":\"https://dadosabertos.camara.leg.br/api/v2/partidos/36863\"},{\"id\":36779,\"sigla\":\"PCdoB\",\"nome\":\"Partido Comunista do Brasil\",\"uri\":\"https://dadosabertos.camara.leg.br/api/v2/partidos/36779\"},{\"id\":36781,\"sigla\":\"PCO\",\"nome\":\"Partido da Causa Operária\",\"uri\":\"https://dadosabertos.camara.leg.br/api/v2/partidos/36781\"},{\"id\":36786,\"sigla\":\"PDT\",\"nome\":\"Partido Democrático Trabalhista\",\"uri\":\"https://dadosabertos.camara.leg.br/api/v2/partidos/36786\"},{\"id\":36793,\"sigla\":\"PHS\",\"nome\":\"Partido Humanista da Solidariedade\",\"uri\":\"https://dadosabertos.camara.leg.br/api/v2/partidos/36793\"},{\"id\":37906,\"sigla\":\"PL\",\"nome\":\"Partido Liberal\",\"uri\":\"https://dadosabertos.camara.leg.br/api/v2/partidos/37906\"},{\"id\":36887,\"sigla\":\"PMB\",\"nome\":\"Partido da Mulher Brasileira\",\"uri\":\"https://dadosabertos.camara.leg.br/api/v2/partidos/36887\"},{\"id\":36801,\"sigla\":\"PMN\",\"nome\":\"Partido da Mobilização Nacional\",\"uri\":\"https://dadosabertos.camara.leg.br/api/v2/partidos/36801\"},{\"id\":36896,\"sigla\":\"PODE\",\"nome\":\"Podemos\",\"uri\":\"https://dadosabertos.camara.leg.br/api/v2/partidos/36896\"},{\"id\":37903,\"sigla\":\"PP\",\"nome\":\"Progressistas\",\"uri\":\"https://dadosabertos.camara.leg.br/api/v2/partidos/37903\"},{\"id\":36762,\"sigla\":\"PPL\",\"nome\":\"Partido Pátria Livre\",\"uri\":\"https://dadosabertos.camara.leg.br/api/v2/partidos/36762\"},{\"id\":36813,\"sigla\":\"PPS\",\"nome\":\"Partido Popular Socialista\",\"uri\":\"https://dadosabertos.camara.leg.br/api/v2/partidos/36813\"},{\"id\":36814,\"sigla\":\"PR\",\"nome\":\"Partido da República\",\"uri\":\"https://dadosabertos.camara.leg.br/api/v2/partidos/36814\"},{\"id\":36815,\"sigla\":\"PRB\",\"nome\":\"Partido Republicano Brasileiro\",\"uri\":\"https://dadosabertos.camara.leg.br/api/v2/partidos/36815\"},{\"id\":36763,\"sigla\":\"PROS\",\"nome\":\"Partido Republicano da Ordem Social\",\"uri\":\"https://dadosabertos.camara.leg.br/api/v2/partidos/36763\"},{\"id\":36824,\"sigla\":\"PRP\",\"nome\":\"Partido Republicano Progressista\",\"uri\":\"https://dadosabertos.camara.leg.br/api/v2/partidos/36824\"},{\"id\":36829,\"sigla\":\"PRTB\",\"nome\":\"Partido Renovador Trabalhista Brasileiro\",\"uri\":\"https://dadosabertos.camara.leg.br/api/v2/partidos/36829\"},{\"id\":36832,\"sigla\":\"PSB\",\"nome\":\"Partido Socialista Brasileiro\",\"uri\":\"https://dadosabertos.camara.leg.br/api/v2/partidos/36832\"},{\"id\":36833,\"sigla\":\"PSC\",\"nome\":\"Partido Social Cristão\",\"uri\":\"https://dadosabertos.camara.leg.br/api/v2/partidos/36833\"},{\"id\":36834,\"sigla\":\"PSD\",\"nome\":\"Partido Social Democrático\",\"uri\":\"https://dadosabertos.camara.leg.br/api/v2/partidos/36834\"},{\"id\":36835,\"sigla\":\"PSDB\",\"nome\":\"Partido da Social Democracia Brasileira\",\"uri\":\"https://dadosabertos.camara.leg.br/api/v2/partidos/36835\"},{\"id\":36837,\"sigla\":\"PSL\",\"nome\":\"Partido Social Liberal\",\"uri\":\"https://dadosabertos.camara.leg.br/api/v2/partidos/36837\"},{\"id\":36839,\"sigla\":\"PSOL\",\"nome\":\"Partido Socialismo e Liberdade\",\"uri\":\"https://dadosabertos.camara.leg.br/api/v2/partidos/36839\"},{\"id\":36843,\"sigla\":\"PSTU\",\"nome\":\"Partido Socialista dos Trabalhadores Unificado\",\"uri\":\"https://dadosabertos.camara.leg.br/api/v2/partidos/36843\"},{\"id\":36844,\"sigla\":\"PT\",\"nome\":\"Partido dos Trabalhadores\",\"uri\":\"https://dadosabertos.camara.leg.br/api/v2/partidos/36844\"},{\"id\":36845,\"sigla\":\"PTB\",\"nome\":\"Partido Trabalhista Brasileiro\",\"uri\":\"https://dadosabertos.camara.leg.br/api/v2/partidos/36845\"},{\"id\":36846,\"sigla\":\"PTC\",\"nome\":\"Partido Trabalhista Cristão\",\"uri\":\"https://dadosabertos.camara.leg.br/api/v2/partidos/36846\"},{\"id\":36851,\"sigla\":\"PV\",\"nome\":\"Partido Verde\",\"uri\":\"https://dadosabertos.camara.leg.br/api/v2/partidos/36851\"},{\"id\":36886,\"sigla\":\"REDE\",\"nome\":\"Rede Sustentabilidade\",\"uri\":\"https://dadosabertos.camara.leg.br/api/v2/partidos/36886\"},{\"id\":37908,\"sigla\":\"REPUBLICANOS\",\"nome\":\"Republicanos\",\"uri\":\"https://dadosabertos.camara.leg.br/api/v2/partidos/37908\"},{\"id\":36852,\"sigla\":\"S.PART.\",\"nome\":\"Sem Partido\",\"uri\":\"https://dadosabertos.camara.leg.br/api/v2/partidos/36852\"},{\"id\":37904,\"sigla\":\"SOLIDARIEDADE\",\"nome\":\"Solidariedade\",\"uri\":\"https://dadosabertos.camara.leg.br/api/v2/partidos/37904\"},{\"id\":38009,\"sigla\":\"UNIÃO\",\"nome\":\"União Brasil\",\"uri\":\"https://dadosabertos.camara.leg.br/api/v2/partidos/38009\"}],\"links\":[{\"rel\":\"self\",\"href\":\"https://dadosabertos.camara.leg.br/api/v2/partidos?itens=100&ordem=ASC&ordenarPor=sigla\"},{\"rel\":\"first\",\"href\":\"https://dadosabertos.camara.leg.br/api/v2/partidos?ordem=ASC&ordenarPor=sigla&pagina=1&itens=100\"},{\"rel\":\"last\",\"href\":\"https://dadosabertos.camara.leg.br/api/v2/partidos?ordem=ASC&ordenarPor=sigla&pagina=1&itens=100\"}]}'"
            ],
            "application/vnd.google.colaboratory.intrinsic+json": {
              "type": "string"
            }
          },
          "metadata": {},
          "execution_count": 16
        }
      ]
    },
    {
      "cell_type": "code",
      "source": [
        "df = pd.DataFrame(resposta.json()['dados'])"
      ],
      "metadata": {
        "id": "2qhDUIkpq3_U"
      },
      "execution_count": 17,
      "outputs": []
    },
    {
      "cell_type": "code",
      "source": [
        "df"
      ],
      "metadata": {
        "colab": {
          "base_uri": "https://localhost:8080/",
          "height": 1000
        },
        "id": "6WUZFof7rz8N",
        "outputId": "962b907a-3dd5-40c5-da1b-26eab6f757e0"
      },
      "execution_count": 18,
      "outputs": [
        {
          "output_type": "execute_result",
          "data": {
            "text/plain": [
              "       id          sigla                                            nome  \\\n",
              "0   36898         AVANTE                                          Avante   \n",
              "1   37905      CIDADANIA                                       Cidadania   \n",
              "2   37902             DC                               Democracia Cristã   \n",
              "3   36769            DEM                                      Democratas   \n",
              "4   36899            MDB                Movimento Democrático Brasileiro   \n",
              "5   37901           NOVO                                    Partido Novo   \n",
              "6   37900          PATRI                                        Patriota   \n",
              "7   37907       PATRIOTA                                        Patriota   \n",
              "8   36863            PCB           Partido Constitucionalista Brasileiro   \n",
              "9   36779          PCdoB                     Partido Comunista do Brasil   \n",
              "10  36781            PCO                       Partido da Causa Operária   \n",
              "11  36786            PDT                 Partido Democrático Trabalhista   \n",
              "12  36793            PHS              Partido Humanista da Solidariedade   \n",
              "13  37906             PL                                 Partido Liberal   \n",
              "14  36887            PMB                    Partido da Mulher Brasileira   \n",
              "15  36801            PMN                 Partido da Mobilização Nacional   \n",
              "16  36896           PODE                                         Podemos   \n",
              "17  37903             PP                                   Progressistas   \n",
              "18  36762            PPL                            Partido Pátria Livre   \n",
              "19  36813            PPS                      Partido Popular Socialista   \n",
              "20  36814             PR                            Partido da República   \n",
              "21  36815            PRB                  Partido Republicano Brasileiro   \n",
              "22  36763           PROS             Partido Republicano da Ordem Social   \n",
              "23  36824            PRP                Partido Republicano Progressista   \n",
              "24  36829           PRTB        Partido Renovador Trabalhista Brasileiro   \n",
              "25  36832            PSB                   Partido Socialista Brasileiro   \n",
              "26  36833            PSC                          Partido Social Cristão   \n",
              "27  36834            PSD                      Partido Social Democrático   \n",
              "28  36835           PSDB         Partido da Social Democracia Brasileira   \n",
              "29  36837            PSL                          Partido Social Liberal   \n",
              "30  36839           PSOL                  Partido Socialismo e Liberdade   \n",
              "31  36843           PSTU  Partido Socialista dos Trabalhadores Unificado   \n",
              "32  36844             PT                       Partido dos Trabalhadores   \n",
              "33  36845            PTB                  Partido Trabalhista Brasileiro   \n",
              "34  36846            PTC                     Partido Trabalhista Cristão   \n",
              "35  36851             PV                                   Partido Verde   \n",
              "36  36886           REDE                           Rede Sustentabilidade   \n",
              "37  37908   REPUBLICANOS                                    Republicanos   \n",
              "38  36852        S.PART.                                     Sem Partido   \n",
              "39  37904  SOLIDARIEDADE                                   Solidariedade   \n",
              "40  38009          UNIÃO                                    União Brasil   \n",
              "\n",
              "                                                  uri  \n",
              "0   https://dadosabertos.camara.leg.br/api/v2/part...  \n",
              "1   https://dadosabertos.camara.leg.br/api/v2/part...  \n",
              "2   https://dadosabertos.camara.leg.br/api/v2/part...  \n",
              "3   https://dadosabertos.camara.leg.br/api/v2/part...  \n",
              "4   https://dadosabertos.camara.leg.br/api/v2/part...  \n",
              "5   https://dadosabertos.camara.leg.br/api/v2/part...  \n",
              "6   https://dadosabertos.camara.leg.br/api/v2/part...  \n",
              "7   https://dadosabertos.camara.leg.br/api/v2/part...  \n",
              "8   https://dadosabertos.camara.leg.br/api/v2/part...  \n",
              "9   https://dadosabertos.camara.leg.br/api/v2/part...  \n",
              "10  https://dadosabertos.camara.leg.br/api/v2/part...  \n",
              "11  https://dadosabertos.camara.leg.br/api/v2/part...  \n",
              "12  https://dadosabertos.camara.leg.br/api/v2/part...  \n",
              "13  https://dadosabertos.camara.leg.br/api/v2/part...  \n",
              "14  https://dadosabertos.camara.leg.br/api/v2/part...  \n",
              "15  https://dadosabertos.camara.leg.br/api/v2/part...  \n",
              "16  https://dadosabertos.camara.leg.br/api/v2/part...  \n",
              "17  https://dadosabertos.camara.leg.br/api/v2/part...  \n",
              "18  https://dadosabertos.camara.leg.br/api/v2/part...  \n",
              "19  https://dadosabertos.camara.leg.br/api/v2/part...  \n",
              "20  https://dadosabertos.camara.leg.br/api/v2/part...  \n",
              "21  https://dadosabertos.camara.leg.br/api/v2/part...  \n",
              "22  https://dadosabertos.camara.leg.br/api/v2/part...  \n",
              "23  https://dadosabertos.camara.leg.br/api/v2/part...  \n",
              "24  https://dadosabertos.camara.leg.br/api/v2/part...  \n",
              "25  https://dadosabertos.camara.leg.br/api/v2/part...  \n",
              "26  https://dadosabertos.camara.leg.br/api/v2/part...  \n",
              "27  https://dadosabertos.camara.leg.br/api/v2/part...  \n",
              "28  https://dadosabertos.camara.leg.br/api/v2/part...  \n",
              "29  https://dadosabertos.camara.leg.br/api/v2/part...  \n",
              "30  https://dadosabertos.camara.leg.br/api/v2/part...  \n",
              "31  https://dadosabertos.camara.leg.br/api/v2/part...  \n",
              "32  https://dadosabertos.camara.leg.br/api/v2/part...  \n",
              "33  https://dadosabertos.camara.leg.br/api/v2/part...  \n",
              "34  https://dadosabertos.camara.leg.br/api/v2/part...  \n",
              "35  https://dadosabertos.camara.leg.br/api/v2/part...  \n",
              "36  https://dadosabertos.camara.leg.br/api/v2/part...  \n",
              "37  https://dadosabertos.camara.leg.br/api/v2/part...  \n",
              "38  https://dadosabertos.camara.leg.br/api/v2/part...  \n",
              "39  https://dadosabertos.camara.leg.br/api/v2/part...  \n",
              "40  https://dadosabertos.camara.leg.br/api/v2/part...  "
            ],
            "text/html": [
              "\n",
              "  <div id=\"df-f95d70ab-580b-4afc-b760-8238a7cbbcf3\">\n",
              "    <div class=\"colab-df-container\">\n",
              "      <div>\n",
              "<style scoped>\n",
              "    .dataframe tbody tr th:only-of-type {\n",
              "        vertical-align: middle;\n",
              "    }\n",
              "\n",
              "    .dataframe tbody tr th {\n",
              "        vertical-align: top;\n",
              "    }\n",
              "\n",
              "    .dataframe thead th {\n",
              "        text-align: right;\n",
              "    }\n",
              "</style>\n",
              "<table border=\"1\" class=\"dataframe\">\n",
              "  <thead>\n",
              "    <tr style=\"text-align: right;\">\n",
              "      <th></th>\n",
              "      <th>id</th>\n",
              "      <th>sigla</th>\n",
              "      <th>nome</th>\n",
              "      <th>uri</th>\n",
              "    </tr>\n",
              "  </thead>\n",
              "  <tbody>\n",
              "    <tr>\n",
              "      <th>0</th>\n",
              "      <td>36898</td>\n",
              "      <td>AVANTE</td>\n",
              "      <td>Avante</td>\n",
              "      <td>https://dadosabertos.camara.leg.br/api/v2/part...</td>\n",
              "    </tr>\n",
              "    <tr>\n",
              "      <th>1</th>\n",
              "      <td>37905</td>\n",
              "      <td>CIDADANIA</td>\n",
              "      <td>Cidadania</td>\n",
              "      <td>https://dadosabertos.camara.leg.br/api/v2/part...</td>\n",
              "    </tr>\n",
              "    <tr>\n",
              "      <th>2</th>\n",
              "      <td>37902</td>\n",
              "      <td>DC</td>\n",
              "      <td>Democracia Cristã</td>\n",
              "      <td>https://dadosabertos.camara.leg.br/api/v2/part...</td>\n",
              "    </tr>\n",
              "    <tr>\n",
              "      <th>3</th>\n",
              "      <td>36769</td>\n",
              "      <td>DEM</td>\n",
              "      <td>Democratas</td>\n",
              "      <td>https://dadosabertos.camara.leg.br/api/v2/part...</td>\n",
              "    </tr>\n",
              "    <tr>\n",
              "      <th>4</th>\n",
              "      <td>36899</td>\n",
              "      <td>MDB</td>\n",
              "      <td>Movimento Democrático Brasileiro</td>\n",
              "      <td>https://dadosabertos.camara.leg.br/api/v2/part...</td>\n",
              "    </tr>\n",
              "    <tr>\n",
              "      <th>5</th>\n",
              "      <td>37901</td>\n",
              "      <td>NOVO</td>\n",
              "      <td>Partido Novo</td>\n",
              "      <td>https://dadosabertos.camara.leg.br/api/v2/part...</td>\n",
              "    </tr>\n",
              "    <tr>\n",
              "      <th>6</th>\n",
              "      <td>37900</td>\n",
              "      <td>PATRI</td>\n",
              "      <td>Patriota</td>\n",
              "      <td>https://dadosabertos.camara.leg.br/api/v2/part...</td>\n",
              "    </tr>\n",
              "    <tr>\n",
              "      <th>7</th>\n",
              "      <td>37907</td>\n",
              "      <td>PATRIOTA</td>\n",
              "      <td>Patriota</td>\n",
              "      <td>https://dadosabertos.camara.leg.br/api/v2/part...</td>\n",
              "    </tr>\n",
              "    <tr>\n",
              "      <th>8</th>\n",
              "      <td>36863</td>\n",
              "      <td>PCB</td>\n",
              "      <td>Partido Constitucionalista Brasileiro</td>\n",
              "      <td>https://dadosabertos.camara.leg.br/api/v2/part...</td>\n",
              "    </tr>\n",
              "    <tr>\n",
              "      <th>9</th>\n",
              "      <td>36779</td>\n",
              "      <td>PCdoB</td>\n",
              "      <td>Partido Comunista do Brasil</td>\n",
              "      <td>https://dadosabertos.camara.leg.br/api/v2/part...</td>\n",
              "    </tr>\n",
              "    <tr>\n",
              "      <th>10</th>\n",
              "      <td>36781</td>\n",
              "      <td>PCO</td>\n",
              "      <td>Partido da Causa Operária</td>\n",
              "      <td>https://dadosabertos.camara.leg.br/api/v2/part...</td>\n",
              "    </tr>\n",
              "    <tr>\n",
              "      <th>11</th>\n",
              "      <td>36786</td>\n",
              "      <td>PDT</td>\n",
              "      <td>Partido Democrático Trabalhista</td>\n",
              "      <td>https://dadosabertos.camara.leg.br/api/v2/part...</td>\n",
              "    </tr>\n",
              "    <tr>\n",
              "      <th>12</th>\n",
              "      <td>36793</td>\n",
              "      <td>PHS</td>\n",
              "      <td>Partido Humanista da Solidariedade</td>\n",
              "      <td>https://dadosabertos.camara.leg.br/api/v2/part...</td>\n",
              "    </tr>\n",
              "    <tr>\n",
              "      <th>13</th>\n",
              "      <td>37906</td>\n",
              "      <td>PL</td>\n",
              "      <td>Partido Liberal</td>\n",
              "      <td>https://dadosabertos.camara.leg.br/api/v2/part...</td>\n",
              "    </tr>\n",
              "    <tr>\n",
              "      <th>14</th>\n",
              "      <td>36887</td>\n",
              "      <td>PMB</td>\n",
              "      <td>Partido da Mulher Brasileira</td>\n",
              "      <td>https://dadosabertos.camara.leg.br/api/v2/part...</td>\n",
              "    </tr>\n",
              "    <tr>\n",
              "      <th>15</th>\n",
              "      <td>36801</td>\n",
              "      <td>PMN</td>\n",
              "      <td>Partido da Mobilização Nacional</td>\n",
              "      <td>https://dadosabertos.camara.leg.br/api/v2/part...</td>\n",
              "    </tr>\n",
              "    <tr>\n",
              "      <th>16</th>\n",
              "      <td>36896</td>\n",
              "      <td>PODE</td>\n",
              "      <td>Podemos</td>\n",
              "      <td>https://dadosabertos.camara.leg.br/api/v2/part...</td>\n",
              "    </tr>\n",
              "    <tr>\n",
              "      <th>17</th>\n",
              "      <td>37903</td>\n",
              "      <td>PP</td>\n",
              "      <td>Progressistas</td>\n",
              "      <td>https://dadosabertos.camara.leg.br/api/v2/part...</td>\n",
              "    </tr>\n",
              "    <tr>\n",
              "      <th>18</th>\n",
              "      <td>36762</td>\n",
              "      <td>PPL</td>\n",
              "      <td>Partido Pátria Livre</td>\n",
              "      <td>https://dadosabertos.camara.leg.br/api/v2/part...</td>\n",
              "    </tr>\n",
              "    <tr>\n",
              "      <th>19</th>\n",
              "      <td>36813</td>\n",
              "      <td>PPS</td>\n",
              "      <td>Partido Popular Socialista</td>\n",
              "      <td>https://dadosabertos.camara.leg.br/api/v2/part...</td>\n",
              "    </tr>\n",
              "    <tr>\n",
              "      <th>20</th>\n",
              "      <td>36814</td>\n",
              "      <td>PR</td>\n",
              "      <td>Partido da República</td>\n",
              "      <td>https://dadosabertos.camara.leg.br/api/v2/part...</td>\n",
              "    </tr>\n",
              "    <tr>\n",
              "      <th>21</th>\n",
              "      <td>36815</td>\n",
              "      <td>PRB</td>\n",
              "      <td>Partido Republicano Brasileiro</td>\n",
              "      <td>https://dadosabertos.camara.leg.br/api/v2/part...</td>\n",
              "    </tr>\n",
              "    <tr>\n",
              "      <th>22</th>\n",
              "      <td>36763</td>\n",
              "      <td>PROS</td>\n",
              "      <td>Partido Republicano da Ordem Social</td>\n",
              "      <td>https://dadosabertos.camara.leg.br/api/v2/part...</td>\n",
              "    </tr>\n",
              "    <tr>\n",
              "      <th>23</th>\n",
              "      <td>36824</td>\n",
              "      <td>PRP</td>\n",
              "      <td>Partido Republicano Progressista</td>\n",
              "      <td>https://dadosabertos.camara.leg.br/api/v2/part...</td>\n",
              "    </tr>\n",
              "    <tr>\n",
              "      <th>24</th>\n",
              "      <td>36829</td>\n",
              "      <td>PRTB</td>\n",
              "      <td>Partido Renovador Trabalhista Brasileiro</td>\n",
              "      <td>https://dadosabertos.camara.leg.br/api/v2/part...</td>\n",
              "    </tr>\n",
              "    <tr>\n",
              "      <th>25</th>\n",
              "      <td>36832</td>\n",
              "      <td>PSB</td>\n",
              "      <td>Partido Socialista Brasileiro</td>\n",
              "      <td>https://dadosabertos.camara.leg.br/api/v2/part...</td>\n",
              "    </tr>\n",
              "    <tr>\n",
              "      <th>26</th>\n",
              "      <td>36833</td>\n",
              "      <td>PSC</td>\n",
              "      <td>Partido Social Cristão</td>\n",
              "      <td>https://dadosabertos.camara.leg.br/api/v2/part...</td>\n",
              "    </tr>\n",
              "    <tr>\n",
              "      <th>27</th>\n",
              "      <td>36834</td>\n",
              "      <td>PSD</td>\n",
              "      <td>Partido Social Democrático</td>\n",
              "      <td>https://dadosabertos.camara.leg.br/api/v2/part...</td>\n",
              "    </tr>\n",
              "    <tr>\n",
              "      <th>28</th>\n",
              "      <td>36835</td>\n",
              "      <td>PSDB</td>\n",
              "      <td>Partido da Social Democracia Brasileira</td>\n",
              "      <td>https://dadosabertos.camara.leg.br/api/v2/part...</td>\n",
              "    </tr>\n",
              "    <tr>\n",
              "      <th>29</th>\n",
              "      <td>36837</td>\n",
              "      <td>PSL</td>\n",
              "      <td>Partido Social Liberal</td>\n",
              "      <td>https://dadosabertos.camara.leg.br/api/v2/part...</td>\n",
              "    </tr>\n",
              "    <tr>\n",
              "      <th>30</th>\n",
              "      <td>36839</td>\n",
              "      <td>PSOL</td>\n",
              "      <td>Partido Socialismo e Liberdade</td>\n",
              "      <td>https://dadosabertos.camara.leg.br/api/v2/part...</td>\n",
              "    </tr>\n",
              "    <tr>\n",
              "      <th>31</th>\n",
              "      <td>36843</td>\n",
              "      <td>PSTU</td>\n",
              "      <td>Partido Socialista dos Trabalhadores Unificado</td>\n",
              "      <td>https://dadosabertos.camara.leg.br/api/v2/part...</td>\n",
              "    </tr>\n",
              "    <tr>\n",
              "      <th>32</th>\n",
              "      <td>36844</td>\n",
              "      <td>PT</td>\n",
              "      <td>Partido dos Trabalhadores</td>\n",
              "      <td>https://dadosabertos.camara.leg.br/api/v2/part...</td>\n",
              "    </tr>\n",
              "    <tr>\n",
              "      <th>33</th>\n",
              "      <td>36845</td>\n",
              "      <td>PTB</td>\n",
              "      <td>Partido Trabalhista Brasileiro</td>\n",
              "      <td>https://dadosabertos.camara.leg.br/api/v2/part...</td>\n",
              "    </tr>\n",
              "    <tr>\n",
              "      <th>34</th>\n",
              "      <td>36846</td>\n",
              "      <td>PTC</td>\n",
              "      <td>Partido Trabalhista Cristão</td>\n",
              "      <td>https://dadosabertos.camara.leg.br/api/v2/part...</td>\n",
              "    </tr>\n",
              "    <tr>\n",
              "      <th>35</th>\n",
              "      <td>36851</td>\n",
              "      <td>PV</td>\n",
              "      <td>Partido Verde</td>\n",
              "      <td>https://dadosabertos.camara.leg.br/api/v2/part...</td>\n",
              "    </tr>\n",
              "    <tr>\n",
              "      <th>36</th>\n",
              "      <td>36886</td>\n",
              "      <td>REDE</td>\n",
              "      <td>Rede Sustentabilidade</td>\n",
              "      <td>https://dadosabertos.camara.leg.br/api/v2/part...</td>\n",
              "    </tr>\n",
              "    <tr>\n",
              "      <th>37</th>\n",
              "      <td>37908</td>\n",
              "      <td>REPUBLICANOS</td>\n",
              "      <td>Republicanos</td>\n",
              "      <td>https://dadosabertos.camara.leg.br/api/v2/part...</td>\n",
              "    </tr>\n",
              "    <tr>\n",
              "      <th>38</th>\n",
              "      <td>36852</td>\n",
              "      <td>S.PART.</td>\n",
              "      <td>Sem Partido</td>\n",
              "      <td>https://dadosabertos.camara.leg.br/api/v2/part...</td>\n",
              "    </tr>\n",
              "    <tr>\n",
              "      <th>39</th>\n",
              "      <td>37904</td>\n",
              "      <td>SOLIDARIEDADE</td>\n",
              "      <td>Solidariedade</td>\n",
              "      <td>https://dadosabertos.camara.leg.br/api/v2/part...</td>\n",
              "    </tr>\n",
              "    <tr>\n",
              "      <th>40</th>\n",
              "      <td>38009</td>\n",
              "      <td>UNIÃO</td>\n",
              "      <td>União Brasil</td>\n",
              "      <td>https://dadosabertos.camara.leg.br/api/v2/part...</td>\n",
              "    </tr>\n",
              "  </tbody>\n",
              "</table>\n",
              "</div>\n",
              "      <button class=\"colab-df-convert\" onclick=\"convertToInteractive('df-f95d70ab-580b-4afc-b760-8238a7cbbcf3')\"\n",
              "              title=\"Convert this dataframe to an interactive table.\"\n",
              "              style=\"display:none;\">\n",
              "        \n",
              "  <svg xmlns=\"http://www.w3.org/2000/svg\" height=\"24px\"viewBox=\"0 0 24 24\"\n",
              "       width=\"24px\">\n",
              "    <path d=\"M0 0h24v24H0V0z\" fill=\"none\"/>\n",
              "    <path d=\"M18.56 5.44l.94 2.06.94-2.06 2.06-.94-2.06-.94-.94-2.06-.94 2.06-2.06.94zm-11 1L8.5 8.5l.94-2.06 2.06-.94-2.06-.94L8.5 2.5l-.94 2.06-2.06.94zm10 10l.94 2.06.94-2.06 2.06-.94-2.06-.94-.94-2.06-.94 2.06-2.06.94z\"/><path d=\"M17.41 7.96l-1.37-1.37c-.4-.4-.92-.59-1.43-.59-.52 0-1.04.2-1.43.59L10.3 9.45l-7.72 7.72c-.78.78-.78 2.05 0 2.83L4 21.41c.39.39.9.59 1.41.59.51 0 1.02-.2 1.41-.59l7.78-7.78 2.81-2.81c.8-.78.8-2.07 0-2.86zM5.41 20L4 18.59l7.72-7.72 1.47 1.35L5.41 20z\"/>\n",
              "  </svg>\n",
              "      </button>\n",
              "      \n",
              "  <style>\n",
              "    .colab-df-container {\n",
              "      display:flex;\n",
              "      flex-wrap:wrap;\n",
              "      gap: 12px;\n",
              "    }\n",
              "\n",
              "    .colab-df-convert {\n",
              "      background-color: #E8F0FE;\n",
              "      border: none;\n",
              "      border-radius: 50%;\n",
              "      cursor: pointer;\n",
              "      display: none;\n",
              "      fill: #1967D2;\n",
              "      height: 32px;\n",
              "      padding: 0 0 0 0;\n",
              "      width: 32px;\n",
              "    }\n",
              "\n",
              "    .colab-df-convert:hover {\n",
              "      background-color: #E2EBFA;\n",
              "      box-shadow: 0px 1px 2px rgba(60, 64, 67, 0.3), 0px 1px 3px 1px rgba(60, 64, 67, 0.15);\n",
              "      fill: #174EA6;\n",
              "    }\n",
              "\n",
              "    [theme=dark] .colab-df-convert {\n",
              "      background-color: #3B4455;\n",
              "      fill: #D2E3FC;\n",
              "    }\n",
              "\n",
              "    [theme=dark] .colab-df-convert:hover {\n",
              "      background-color: #434B5C;\n",
              "      box-shadow: 0px 1px 3px 1px rgba(0, 0, 0, 0.15);\n",
              "      filter: drop-shadow(0px 1px 2px rgba(0, 0, 0, 0.3));\n",
              "      fill: #FFFFFF;\n",
              "    }\n",
              "  </style>\n",
              "\n",
              "      <script>\n",
              "        const buttonEl =\n",
              "          document.querySelector('#df-f95d70ab-580b-4afc-b760-8238a7cbbcf3 button.colab-df-convert');\n",
              "        buttonEl.style.display =\n",
              "          google.colab.kernel.accessAllowed ? 'block' : 'none';\n",
              "\n",
              "        async function convertToInteractive(key) {\n",
              "          const element = document.querySelector('#df-f95d70ab-580b-4afc-b760-8238a7cbbcf3');\n",
              "          const dataTable =\n",
              "            await google.colab.kernel.invokeFunction('convertToInteractive',\n",
              "                                                     [key], {});\n",
              "          if (!dataTable) return;\n",
              "\n",
              "          const docLinkHtml = 'Like what you see? Visit the ' +\n",
              "            '<a target=\"_blank\" href=https://colab.research.google.com/notebooks/data_table.ipynb>data table notebook</a>'\n",
              "            + ' to learn more about interactive tables.';\n",
              "          element.innerHTML = '';\n",
              "          dataTable['output_type'] = 'display_data';\n",
              "          await google.colab.output.renderOutput(dataTable, element);\n",
              "          const docLink = document.createElement('div');\n",
              "          docLink.innerHTML = docLinkHtml;\n",
              "          element.appendChild(docLink);\n",
              "        }\n",
              "      </script>\n",
              "    </div>\n",
              "  </div>\n",
              "  "
            ]
          },
          "metadata": {},
          "execution_count": 18
        }
      ]
    },
    {
      "cell_type": "code",
      "source": [
        "df.sigla.count()"
      ],
      "metadata": {
        "colab": {
          "base_uri": "https://localhost:8080/"
        },
        "id": "Jnuou8AUr095",
        "outputId": "e1977a4d-761e-4208-db72-09121cb012bd"
      },
      "execution_count": 19,
      "outputs": [
        {
          "output_type": "execute_result",
          "data": {
            "text/plain": [
              "41"
            ]
          },
          "metadata": {},
          "execution_count": 19
        }
      ]
    },
    {
      "cell_type": "code",
      "source": [
        "df.nome"
      ],
      "metadata": {
        "colab": {
          "base_uri": "https://localhost:8080/"
        },
        "id": "5FF-jjAer-hj",
        "outputId": "dfc06504-350e-4705-d8f9-b824f29671a4"
      },
      "execution_count": 20,
      "outputs": [
        {
          "output_type": "execute_result",
          "data": {
            "text/plain": [
              "0                                             Avante\n",
              "1                                          Cidadania\n",
              "2                                  Democracia Cristã\n",
              "3                                         Democratas\n",
              "4                   Movimento Democrático Brasileiro\n",
              "5                                       Partido Novo\n",
              "6                                           Patriota\n",
              "7                                           Patriota\n",
              "8              Partido Constitucionalista Brasileiro\n",
              "9                        Partido Comunista do Brasil\n",
              "10                         Partido da Causa Operária\n",
              "11                   Partido Democrático Trabalhista\n",
              "12                Partido Humanista da Solidariedade\n",
              "13                                   Partido Liberal\n",
              "14                      Partido da Mulher Brasileira\n",
              "15                   Partido da Mobilização Nacional\n",
              "16                                           Podemos\n",
              "17                                     Progressistas\n",
              "18                              Partido Pátria Livre\n",
              "19                        Partido Popular Socialista\n",
              "20                              Partido da República\n",
              "21                    Partido Republicano Brasileiro\n",
              "22               Partido Republicano da Ordem Social\n",
              "23                  Partido Republicano Progressista\n",
              "24          Partido Renovador Trabalhista Brasileiro\n",
              "25                     Partido Socialista Brasileiro\n",
              "26                            Partido Social Cristão\n",
              "27                        Partido Social Democrático\n",
              "28           Partido da Social Democracia Brasileira\n",
              "29                            Partido Social Liberal\n",
              "30                    Partido Socialismo e Liberdade\n",
              "31    Partido Socialista dos Trabalhadores Unificado\n",
              "32                         Partido dos Trabalhadores\n",
              "33                    Partido Trabalhista Brasileiro\n",
              "34                       Partido Trabalhista Cristão\n",
              "35                                     Partido Verde\n",
              "36                             Rede Sustentabilidade\n",
              "37                                      Republicanos\n",
              "38                                       Sem Partido\n",
              "39                                     Solidariedade\n",
              "40                                      União Brasil\n",
              "Name: nome, dtype: object"
            ]
          },
          "metadata": {},
          "execution_count": 20
        }
      ]
    },
    {
      "cell_type": "code",
      "source": [
        "url2 = 'https://dadosabertos.camara.leg.br/api/v2/deputados?itens=600&ordem=ASC&ordenarPor=nome'"
      ],
      "metadata": {
        "id": "_E78Kdq1sDDG"
      },
      "execution_count": 22,
      "outputs": []
    },
    {
      "cell_type": "code",
      "source": [
        "resposta = requests.get(url2)"
      ],
      "metadata": {
        "id": "6VLAx6pYs_LH"
      },
      "execution_count": 23,
      "outputs": []
    },
    {
      "cell_type": "code",
      "source": [
        "df2 = pd.DataFrame(resposta.json()['dados'])"
      ],
      "metadata": {
        "id": "paq-bF45tATf"
      },
      "execution_count": 24,
      "outputs": []
    },
    {
      "cell_type": "code",
      "source": [
        "df2.nome.count()"
      ],
      "metadata": {
        "colab": {
          "base_uri": "https://localhost:8080/"
        },
        "id": "gId5TyjUtESR",
        "outputId": "e8b7328b-0561-42be-d8e0-55a553240733"
      },
      "execution_count": 26,
      "outputs": [
        {
          "output_type": "execute_result",
          "data": {
            "text/plain": [
              "513"
            ]
          },
          "metadata": {},
          "execution_count": 26
        }
      ]
    },
    {
      "cell_type": "code",
      "source": [
        "df2.nome.shape"
      ],
      "metadata": {
        "colab": {
          "base_uri": "https://localhost:8080/"
        },
        "id": "FTgIZGSNtFEn",
        "outputId": "83f5c599-27eb-4f22-80ef-4d29b5a0e5ec"
      },
      "execution_count": 29,
      "outputs": [
        {
          "output_type": "execute_result",
          "data": {
            "text/plain": [
              "(513,)"
            ]
          },
          "metadata": {},
          "execution_count": 29
        }
      ]
    },
    {
      "cell_type": "code",
      "source": [
        ""
      ],
      "metadata": {
        "id": "e3-nWXQBtMdy"
      },
      "execution_count": null,
      "outputs": []
    }
  ]
}